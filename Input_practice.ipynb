{
  "cells": [
    {
      "cell_type": "markdown",
      "metadata": {
        "id": "view-in-github",
        "colab_type": "text"
      },
      "source": [
        "<a href=\"https://colab.research.google.com/github/LavanyaMQuantumThinker/Quantum-/blob/main/Input_practice.ipynb\" target=\"_parent\"><img src=\"https://colab.research.google.com/assets/colab-badge.svg\" alt=\"Open In Colab\"/></a>"
      ]
    },
    {
      "cell_type": "code",
      "source": [
        "a = input()\n",
        "b= input(\n",
        "\n",
        ")\n",
        "print (a +b)"
      ],
      "metadata": {
        "colab": {
          "base_uri": "https://localhost:8080/"
        },
        "id": "9m_VJeEKXVUJ",
        "outputId": "a110c962-2fb3-4437-df5a-6650ef21ce6e"
      },
      "execution_count": null,
      "outputs": [
        {
          "output_type": "stream",
          "name": "stdout",
          "text": [
            "1\n",
            "2\n",
            "12\n"
          ]
        }
      ]
    },
    {
      "cell_type": "code",
      "source": [
        "a= int(input())\n",
        "b=int (input())\n",
        "\n",
        "print (a+b)"
      ],
      "metadata": {
        "colab": {
          "base_uri": "https://localhost:8080/"
        },
        "id": "-DVEP5oxXrKc",
        "outputId": "df602161-eb1f-424c-b332-065074f32970"
      },
      "execution_count": null,
      "outputs": [
        {
          "output_type": "stream",
          "name": "stdout",
          "text": [
            "1\n",
            "2\n",
            "3\n"
          ]
        }
      ]
    },
    {
      "cell_type": "code",
      "source": [
        "name= str(input())\n",
        "age= (input())\n",
        "for i in age == int:\n",
        "  print(i)\n",
        "else:\n",
        "  print(\"Enter Number please\")\n",
        "\n",
        "address = input()\n",
        "print (\"My name is:\",name)\n",
        "print (\"My age is:\", age)\n",
        "print(\"Address is:\",address)"
      ],
      "metadata": {
        "colab": {
          "base_uri": "https://localhost:8080/",
          "height": 252
        },
        "id": "p2eZs6rvYJnT",
        "outputId": "096b694f-0dbf-4e30-8009-44d0ad238afe"
      },
      "execution_count": null,
      "outputs": [
        {
          "name": "stdout",
          "output_type": "stream",
          "text": [
            "lava\n",
            "rr\n"
          ]
        },
        {
          "output_type": "error",
          "ename": "TypeError",
          "evalue": "'bool' object is not iterable",
          "traceback": [
            "\u001b[0;31m---------------------------------------------------------------------------\u001b[0m",
            "\u001b[0;31mTypeError\u001b[0m                                 Traceback (most recent call last)",
            "\u001b[0;32m/tmp/ipython-input-19-4177527414.py\u001b[0m in \u001b[0;36m<cell line: 0>\u001b[0;34m()\u001b[0m\n\u001b[1;32m      1\u001b[0m \u001b[0mname\u001b[0m\u001b[0;34m=\u001b[0m \u001b[0mstr\u001b[0m\u001b[0;34m(\u001b[0m\u001b[0minput\u001b[0m\u001b[0;34m(\u001b[0m\u001b[0;34m)\u001b[0m\u001b[0;34m)\u001b[0m\u001b[0;34m\u001b[0m\u001b[0;34m\u001b[0m\u001b[0m\n\u001b[1;32m      2\u001b[0m \u001b[0mage\u001b[0m\u001b[0;34m=\u001b[0m \u001b[0;34m(\u001b[0m\u001b[0minput\u001b[0m\u001b[0;34m(\u001b[0m\u001b[0;34m)\u001b[0m\u001b[0;34m)\u001b[0m\u001b[0;34m\u001b[0m\u001b[0;34m\u001b[0m\u001b[0m\n\u001b[0;32m----> 3\u001b[0;31m \u001b[0;32mfor\u001b[0m \u001b[0mi\u001b[0m \u001b[0;32min\u001b[0m \u001b[0mage\u001b[0m \u001b[0;34m==\u001b[0m \u001b[0mint\u001b[0m\u001b[0;34m:\u001b[0m\u001b[0;34m\u001b[0m\u001b[0;34m\u001b[0m\u001b[0m\n\u001b[0m\u001b[1;32m      4\u001b[0m   \u001b[0mprint\u001b[0m\u001b[0;34m(\u001b[0m\u001b[0mi\u001b[0m\u001b[0;34m)\u001b[0m\u001b[0;34m\u001b[0m\u001b[0;34m\u001b[0m\u001b[0m\n\u001b[1;32m      5\u001b[0m \u001b[0;32melse\u001b[0m\u001b[0;34m:\u001b[0m\u001b[0;34m\u001b[0m\u001b[0;34m\u001b[0m\u001b[0m\n",
            "\u001b[0;31mTypeError\u001b[0m: 'bool' object is not iterable"
          ]
        }
      ]
    },
    {
      "cell_type": "code",
      "source": [
        "##Q3\n",
        "\n",
        "a= int(input())\n",
        "b=int(input())\n",
        "c=int(input())\n",
        "\n",
        "d=a*b*c\n",
        "e=a+b+c\n",
        "\n",
        "print(d/e)"
      ],
      "metadata": {
        "colab": {
          "base_uri": "https://localhost:8080/"
        },
        "id": "BYkxPe1RZUGz",
        "outputId": "0548d549-671a-41cf-a137-1dc0a7736e48"
      },
      "execution_count": null,
      "outputs": [
        {
          "output_type": "stream",
          "name": "stdout",
          "text": [
            "2\n",
            "2\n",
            "2\n",
            "1.3333333333333333\n"
          ]
        }
      ]
    },
    {
      "cell_type": "code",
      "source": [
        "#Q4\n",
        "\n",
        "name= input()\n",
        "score=int(input())\n",
        "\n",
        "\n",
        "department = input()\n",
        "\n",
        "print(\"My name is\",name,\"My score is\",score/10,\"/10\",\"My department is \",department)"
      ],
      "metadata": {
        "colab": {
          "base_uri": "https://localhost:8080/"
        },
        "id": "2Xv15v1bcFe9",
        "outputId": "77ed2172-3a02-4ccc-dcb7-1feca9b7ccc2"
      },
      "execution_count": null,
      "outputs": [
        {
          "output_type": "stream",
          "name": "stdout",
          "text": [
            "lava\n",
            "44\n",
            "cse\n",
            "My name is lava My score is 4.4 /10 My department is  cse\n"
          ]
        }
      ]
    },
    {
      "cell_type": "code",
      "source": [
        "#Q4\n",
        "\n",
        "name= input()\n",
        "score=int(input())\n",
        "\n",
        "\n",
        "department = input()\n",
        "\n",
        "print(\"My name is\",name)\n",
        "print(\"My score is\",score/10,\"/10\")\n",
        "print(\"My department is \",department)"
      ],
      "metadata": {
        "colab": {
          "base_uri": "https://localhost:8080/"
        },
        "id": "h-9hUWOKefvn",
        "outputId": "1143be0f-d128-456f-f8e3-c9848e841e83"
      },
      "execution_count": null,
      "outputs": [
        {
          "output_type": "stream",
          "name": "stdout",
          "text": [
            "lava\n",
            "99\n",
            "cse\n",
            "My name is lava\n",
            "My score is 9.9 /10\n",
            "My department is  cse\n"
          ]
        }
      ]
    },
    {
      "cell_type": "markdown",
      "source": [
        "IF-ELSE"
      ],
      "metadata": {
        "id": "1GfWwSTtOPZ1"
      }
    },
    {
      "cell_type": "code",
      "source": [
        "if(True):\n",
        "  print(\"Yes\")\n",
        "else:\n",
        "  print(\"No\")"
      ],
      "metadata": {
        "colab": {
          "base_uri": "https://localhost:8080/"
        },
        "id": "kRSqQq6lOO0W",
        "outputId": "c7a32252-9a31-4d39-f3d2-bbec9937dcf3"
      },
      "execution_count": null,
      "outputs": [
        {
          "output_type": "stream",
          "name": "stdout",
          "text": [
            "Yes\n"
          ]
        }
      ]
    },
    {
      "cell_type": "code",
      "source": [
        "if(False):\n",
        "  print(\"Yes\")\n",
        "else:\n",
        "  print(\"No\")"
      ],
      "metadata": {
        "colab": {
          "base_uri": "https://localhost:8080/"
        },
        "id": "_PlFzLPpQ-ui",
        "outputId": "a529cbc6-43cf-4ceb-e165-5f95b72a70ab"
      },
      "execution_count": null,
      "outputs": [
        {
          "output_type": "stream",
          "name": "stdout",
          "text": [
            "No\n"
          ]
        }
      ]
    },
    {
      "cell_type": "markdown",
      "source": [
        "## Comparision Operator"
      ],
      "metadata": {
        "id": "htTIrtKoSzI2"
      }
    },
    {
      "cell_type": "code",
      "source": [
        "print(\"win\"==\"win\")"
      ],
      "metadata": {
        "colab": {
          "base_uri": "https://localhost:8080/"
        },
        "id": "Jg3TP0EaRUQe",
        "outputId": "052cc3cc-e04a-4d82-a3b1-11ba12eebbed"
      },
      "execution_count": null,
      "outputs": [
        {
          "output_type": "stream",
          "name": "stdout",
          "text": [
            "True\n"
          ]
        }
      ]
    },
    {
      "cell_type": "code",
      "source": [
        "rcb = \"win\"\n",
        "if rcb==\"win\":\n",
        "  print(\"Ee Sala cup namadhe\")\n",
        "else:\n",
        "  print(\"Valakkam pola cup illa\")\n",
        "\n"
      ],
      "metadata": {
        "colab": {
          "base_uri": "https://localhost:8080/"
        },
        "id": "fhR07HjxSTVW",
        "outputId": "24403cbe-3275-4cec-87bb-0b3b64e0cee4"
      },
      "execution_count": null,
      "outputs": [
        {
          "output_type": "stream",
          "name": "stdout",
          "text": [
            "Ee Sala cup namadhe\n"
          ]
        }
      ]
    },
    {
      "cell_type": "code",
      "source": [
        "Meghana =input(\"Meghana died or not:\")\n",
        "\n",
        "if Meghana==\"died\":\n",
        "  print(\"Surya meets Priya\")\n",
        "else:\n",
        "  print(\"Surya weds Meghana\")"
      ],
      "metadata": {
        "id": "UAV7I0uFUrFr",
        "colab": {
          "base_uri": "https://localhost:8080/"
        },
        "outputId": "10c03b51-02c3-4d3e-e2e2-00dc10b3a6ea"
      },
      "execution_count": null,
      "outputs": [
        {
          "output_type": "stream",
          "name": "stdout",
          "text": [
            "Meghana died or not:not\n",
            "Surya weds Meghana\n"
          ]
        }
      ]
    },
    {
      "cell_type": "code",
      "source": [
        "#Q4\n",
        "\n",
        "mark = int(input(\"Enter Your Mark:\"))\n",
        "\n",
        "if (mark>=35):\n",
        "  print(\"Pass\")\n",
        "else:\n",
        "  print(\"Fail\")\n"
      ],
      "metadata": {
        "colab": {
          "base_uri": "https://localhost:8080/"
        },
        "id": "INn7m6ZeDwo7",
        "outputId": "3c9882f0-018f-444a-f828-d8a37e6701ec"
      },
      "execution_count": null,
      "outputs": [
        {
          "output_type": "stream",
          "name": "stdout",
          "text": [
            "Enter Your Mark:66\n",
            "Pass\n"
          ]
        }
      ]
    },
    {
      "cell_type": "code",
      "source": [
        "#Q5--\n",
        "#Get input for for variable income. If income is greter than 7000 scholarship is available.Else not eligible for scholarship\n",
        "\n",
        "#Sample input\n",
        "#Income:7200\n",
        "#Sample Output\n",
        "#\"Not Eligible for scholarship\"\n",
        "\n",
        "\n",
        "income=int(input(\"Enter Your Salary\"))\n",
        "if (income>7000):\n",
        "  print(\"scholarship is available\")\n",
        "else:\n",
        "  print(\"Not Eligible for scholarship\")\n",
        "\n",
        "\n"
      ],
      "metadata": {
        "colab": {
          "base_uri": "https://localhost:8080/"
        },
        "id": "OAkGG0sqFvFd",
        "outputId": "c8175a42-5972-4afc-d2ad-5346eb39b2fc"
      },
      "execution_count": null,
      "outputs": [
        {
          "output_type": "stream",
          "name": "stdout",
          "text": [
            "Enter Your Salary7200\n",
            "scholarship is available\n"
          ]
        }
      ]
    },
    {
      "cell_type": "code",
      "source": [
        "#Get input for variable"
      ],
      "metadata": {
        "id": "1hUoRfD1hgoB"
      },
      "execution_count": null,
      "outputs": []
    },
    {
      "cell_type": "markdown",
      "source": [
        "AND OR NOT\n"
      ],
      "metadata": {
        "id": "a6Ye3qViuU51"
      }
    },
    {
      "cell_type": "code",
      "source": [
        "#Q6\n",
        "num=int(input(\"Enter a number:\"))\n",
        "\n",
        "if (num % 3 == 0 and num % 5==0):\n",
        "  print(\"Yes divisible by 3&5\")\n",
        "else :\n",
        "  print(\"Not divisible by 3&5\")\n"
      ],
      "metadata": {
        "id": "TAy5c9vohzF5",
        "colab": {
          "base_uri": "https://localhost:8080/"
        },
        "outputId": "a40a268f-e023-4b75-afa2-b4a81ebec2f2"
      },
      "execution_count": null,
      "outputs": [
        {
          "output_type": "stream",
          "name": "stdout",
          "text": [
            "Enter a number:60\n",
            "Yes divisible by 3&5\n"
          ]
        }
      ]
    },
    {
      "cell_type": "code",
      "source": [
        "#Q7 Get input and find odd or even\n",
        "\n",
        "num = int(input())\n",
        "\n",
        "if num % 2==0:\n",
        "  print(\"It is Even\")\n",
        "else:\n",
        "  print(\"It is Odd\")\n"
      ],
      "metadata": {
        "colab": {
          "base_uri": "https://localhost:8080/"
        },
        "id": "M-Uu7bzEu0uu",
        "outputId": "ca5314c7-f4cc-48d5-fb36-62241a88a647"
      },
      "execution_count": null,
      "outputs": [
        {
          "output_type": "stream",
          "name": "stdout",
          "text": [
            "22\n",
            "It is Even\n"
          ]
        }
      ]
    },
    {
      "cell_type": "code",
      "source": [
        "#Q 8\n",
        "score = int(input())\n",
        "\n",
        "if score<35 :\n",
        "  print(\"poor student\")\n",
        "elif score>=70:\n",
        "  print(\"Good Student\")\n",
        "else:\n",
        "  print('Average student')\n",
        "\n",
        "\n"
      ],
      "metadata": {
        "colab": {
          "base_uri": "https://localhost:8080/"
        },
        "id": "G3Pmetk7yIEl",
        "outputId": "7658e5a8-26f1-45d8-ea11-9400039c8671"
      },
      "execution_count": null,
      "outputs": [
        {
          "output_type": "stream",
          "name": "stdout",
          "text": [
            "36\n",
            "Average student\n"
          ]
        }
      ]
    },
    {
      "cell_type": "code",
      "source": [
        "#Q 8.1\n",
        "score = int(input())\n",
        "\n",
        "if score<35 :\n",
        "  print(\"poor student\")\n",
        "elif score>35 and score<70 :\n",
        "  print(\" Average Student\")\n",
        "elif score>70 and score<100:\n",
        "  print('Good student')\n",
        "else :\n",
        "  print(\"Invalid Number\")\n"
      ],
      "metadata": {
        "colab": {
          "base_uri": "https://localhost:8080/"
        },
        "id": "CLTXPlXzPxwO",
        "outputId": "6d9843d6-175a-4e15-c136-52ffff0b98b0"
      },
      "execution_count": null,
      "outputs": [
        {
          "output_type": "stream",
          "name": "stdout",
          "text": [
            "120\n",
            "Invalid Number\n"
          ]
        }
      ]
    },
    {
      "cell_type": "code",
      "source": [
        "#Q 9 Built Calculator\n",
        "\n",
        "a = int(input(\"A:\"))\n",
        "b = int(input(\"B:\"))\n",
        "calculation = input(\"add/sub/multiply/divide:\")\n",
        "\n",
        "if calculation.lower() in [\"add\", \"+\"] : #User can use terms\"add\" ,\"ADD\", \"Add\",\"+\" (.lower compares value with reference term given for comparison in lowercase(lowercase 'add'== 'add' then compares it with user value) )\n",
        "  print(\"Answer:\",a+b)\n",
        "elif calculation.lower() in [ \"sub\", \"-\"]:\n",
        "  print(\"Answer:\",a-b)\n",
        "elif calculation.lower() in [\"multiply\",\"*\"]:\n",
        "  print(\"Answer:\",a*b)\n",
        "elif calculation.lower() in [\"divide\",\"/\"]:\n",
        "  print(\"Answer:\",a/b)\n",
        "else:\n",
        "  print(\"invalid operation\")"
      ],
      "metadata": {
        "colab": {
          "base_uri": "https://localhost:8080/"
        },
        "id": "4VrQr9UKQi8_",
        "outputId": "9b2dc9d3-6b7c-4e18-c153-5d44f5e38f17"
      },
      "execution_count": null,
      "outputs": [
        {
          "output_type": "stream",
          "name": "stdout",
          "text": [
            "A:1\n",
            "B:2\n",
            "add/sub/multiply/divide:sty\n",
            "invalid operation\n"
          ]
        }
      ]
    },
    {
      "cell_type": "code",
      "source": [
        "score = int(input(\"Score:\"))\n",
        "\n",
        "if score>=70:\n",
        "  name = input(\"Name:\")\n",
        "  department = input(\"Department:\")\n",
        "  location = input(\"Location:\")\n",
        "\n",
        "  print(\"You are Eligible\")\n",
        "else:\n",
        "  print(\"You are not eligible\")\n",
        "\n"
      ],
      "metadata": {
        "colab": {
          "base_uri": "https://localhost:8080/"
        },
        "id": "EyzO04j1lc0C",
        "outputId": "6b3409a0-6ea6-40b8-b728-a5e127343c5b"
      },
      "execution_count": null,
      "outputs": [
        {
          "output_type": "stream",
          "name": "stdout",
          "text": [
            "69\n",
            "You are not eligible\n"
          ]
        }
      ]
    },
    {
      "cell_type": "code",
      "source": [
        "#\n",
        "salary = int(input(\"Salary: \"))\n",
        "age = int(input(\"Age: \"))\n",
        "\n",
        "if salary >= 20000 or age <= 25:\n",
        "  loan=int(input(\"Enter Loan amount:\"))\n",
        "  if loan<=50000:\n",
        "    print(\"Eligiblie for Loan\")\n",
        "  else :\n",
        "    print(\"Maximum Loan amount is 50000\")\n",
        "else:\n",
        "  print(\"Not Eligible for Loan\")\n"
      ],
      "metadata": {
        "colab": {
          "base_uri": "https://localhost:8080/"
        },
        "id": "8txh-G8x92Or",
        "outputId": "c2606a66-e072-4e12-9e54-8487c7761c83"
      },
      "execution_count": null,
      "outputs": [
        {
          "output_type": "stream",
          "name": "stdout",
          "text": [
            "Salary: 10000\n",
            "Age: 40\n",
            "Not Eligible for Loan\n"
          ]
        }
      ]
    },
    {
      "cell_type": "code",
      "source": [
        "a = int(input(\"Eng: \"))\n",
        "b = int(input(\"Maths:\"))\n",
        "c = int(input(\"Tamil: \"))\n",
        "d = int(input(\"Science: \"))\n",
        "e = int(input(\"Social: \"))\n",
        "\n",
        "avg = (a+b+c+d+e)/5\n",
        "print(\"Your Average is: \",avg)\n",
        "\n",
        "if avg < 35:\n",
        "  print(\"Additional class Required\")\n",
        "else:\n",
        "   print(\"You are Good to Go\")\n",
        "\n",
        "\n",
        "\n",
        "\n"
      ],
      "metadata": {
        "colab": {
          "base_uri": "https://localhost:8080/"
        },
        "id": "7Z5g_L8KEnOB",
        "outputId": "46b283a8-4074-4877-a281-6190c42db207"
      },
      "execution_count": null,
      "outputs": [
        {
          "output_type": "stream",
          "name": "stdout",
          "text": [
            "Eng: 11\n",
            "Maths:23\n",
            "Tamil: 45\n",
            "Science: 22\n",
            "Social: 55\n",
            "Your Average is:  31.2\n",
            "Additional class Required\n"
          ]
        }
      ]
    },
    {
      "cell_type": "markdown",
      "source": [
        "FOR LOOP"
      ],
      "metadata": {
        "id": "GldLClEGrbOV"
      }
    },
    {
      "cell_type": "code",
      "source": [
        "for i in range (5):\n",
        "  print(i)"
      ],
      "metadata": {
        "colab": {
          "base_uri": "https://localhost:8080/"
        },
        "id": "_wx6N_13raB5",
        "outputId": "35ccbaf5-0f79-4e86-e9af-6ddd6c6c9572"
      },
      "execution_count": null,
      "outputs": [
        {
          "output_type": "stream",
          "name": "stdout",
          "text": [
            "0\n",
            "1\n",
            "2\n",
            "3\n",
            "4\n"
          ]
        }
      ]
    },
    {
      "cell_type": "code",
      "source": [
        "for i in \"apple\":\n",
        "  print(i)"
      ],
      "metadata": {
        "colab": {
          "base_uri": "https://localhost:8080/"
        },
        "id": "-Ikg_hIEsP8q",
        "outputId": "0b2670ee-95e4-4123-dff8-10be81c25f2d"
      },
      "execution_count": null,
      "outputs": [
        {
          "output_type": "stream",
          "name": "stdout",
          "text": [
            "a\n",
            "p\n",
            "p\n",
            "l\n",
            "e\n"
          ]
        }
      ]
    },
    {
      "cell_type": "code",
      "source": [
        "for i in range(1,9):\n",
        "  print(i)"
      ],
      "metadata": {
        "colab": {
          "base_uri": "https://localhost:8080/"
        },
        "id": "Ec56Gk93seB4",
        "outputId": "550e0660-8b13-4d39-901b-c121fa5f1175"
      },
      "execution_count": null,
      "outputs": [
        {
          "output_type": "stream",
          "name": "stdout",
          "text": [
            "1\n",
            "2\n",
            "3\n",
            "4\n",
            "5\n",
            "6\n",
            "7\n",
            "8\n"
          ]
        }
      ]
    },
    {
      "cell_type": "code",
      "source": [
        "for i in range(2,20,2):\n",
        "  print(i)"
      ],
      "metadata": {
        "colab": {
          "base_uri": "https://localhost:8080/"
        },
        "id": "hwScxgTesryY",
        "outputId": "4bdc3ab0-7ae9-4ca7-9fc5-966c130e92a3"
      },
      "execution_count": null,
      "outputs": [
        {
          "output_type": "stream",
          "name": "stdout",
          "text": [
            "2\n",
            "4\n",
            "6\n",
            "8\n",
            "10\n",
            "12\n",
            "14\n",
            "16\n",
            "18\n"
          ]
        }
      ]
    },
    {
      "cell_type": "code",
      "source": [
        "for i in range(1,11):\n",
        "  print(\"Lavanya\")"
      ],
      "metadata": {
        "colab": {
          "base_uri": "https://localhost:8080/"
        },
        "id": "YpRmB7AGtm-e",
        "outputId": "4f293fbd-cf6e-4de9-bba0-018a219101e3"
      },
      "execution_count": null,
      "outputs": [
        {
          "output_type": "stream",
          "name": "stdout",
          "text": [
            "Lavanya\n",
            "Lavanya\n",
            "Lavanya\n",
            "Lavanya\n",
            "Lavanya\n",
            "Lavanya\n",
            "Lavanya\n",
            "Lavanya\n",
            "Lavanya\n",
            "Lavanya\n"
          ]
        }
      ]
    },
    {
      "cell_type": "code",
      "source": [
        "for i in range(1,11):\n",
        "  print(i,\"x 2 =\",(i*2))"
      ],
      "metadata": {
        "colab": {
          "base_uri": "https://localhost:8080/"
        },
        "id": "qkotzm6UwLc-",
        "outputId": "62c6215f-a0cb-4ae0-c0e9-76bd3747ea79"
      },
      "execution_count": null,
      "outputs": [
        {
          "output_type": "stream",
          "name": "stdout",
          "text": [
            "1 x 2 = 2\n",
            "2 x 2 = 4\n",
            "3 x 2 = 6\n",
            "4 x 2 = 8\n",
            "5 x 2 = 10\n",
            "6 x 2 = 12\n",
            "7 x 2 = 14\n",
            "8 x 2 = 16\n",
            "9 x 2 = 18\n",
            "10 x 2 = 20\n"
          ]
        }
      ]
    },
    {
      "cell_type": "code",
      "source": [
        "n = int(input())\n",
        "\n",
        "for i in range(0,n):\n",
        "  print(i*i)"
      ],
      "metadata": {
        "colab": {
          "base_uri": "https://localhost:8080/"
        },
        "id": "_FDOYZsZzYSY",
        "outputId": "bc255c98-eaf5-4da9-8bc7-30916e71289f"
      },
      "execution_count": null,
      "outputs": [
        {
          "output_type": "stream",
          "name": "stdout",
          "text": [
            "5\n",
            "0\n",
            "1\n",
            "4\n",
            "9\n",
            "16\n"
          ]
        }
      ]
    },
    {
      "cell_type": "code",
      "source": [
        "a = int(input())\n",
        "b = int(input())\n",
        "\n",
        "for i in range (a+1,b):\n",
        "  print (i)"
      ],
      "metadata": {
        "colab": {
          "base_uri": "https://localhost:8080/"
        },
        "id": "MMHgB8cPi0FD",
        "outputId": "a6b50390-23cb-447a-f9dd-5cc51e5e2d7e"
      },
      "execution_count": null,
      "outputs": [
        {
          "output_type": "stream",
          "name": "stdout",
          "text": [
            "3\n",
            "8\n",
            "4\n",
            "5\n",
            "6\n",
            "7\n"
          ]
        }
      ]
    },
    {
      "cell_type": "code",
      "source": [
        "#print even number between 1-10\n",
        "\n",
        "for i in range (1,11):\n",
        "  if i%2==0:\n",
        "    print(i)"
      ],
      "metadata": {
        "colab": {
          "base_uri": "https://localhost:8080/"
        },
        "id": "DIeXeY84Ow-E",
        "outputId": "6a88e3ee-36ee-462a-897c-982df9597cbe"
      },
      "execution_count": null,
      "outputs": [
        {
          "output_type": "stream",
          "name": "stdout",
          "text": [
            "2\n",
            "4\n",
            "6\n",
            "8\n",
            "10\n"
          ]
        }
      ]
    },
    {
      "cell_type": "code",
      "source": [
        "#print count even number between 1-10\n",
        "\n",
        "count=0\n",
        "for i in range (1,11):\n",
        "  if i%2==0:\n",
        "    count=count+1\n",
        "print(count)"
      ],
      "metadata": {
        "colab": {
          "base_uri": "https://localhost:8080/"
        },
        "id": "i6XnNp4i9vbv",
        "outputId": "bc216974-43cd-4bba-ace6-e2c2c0646c3b"
      },
      "execution_count": null,
      "outputs": [
        {
          "output_type": "stream",
          "name": "stdout",
          "text": [
            "5\n"
          ]
        }
      ]
    },
    {
      "cell_type": "code",
      "source": [
        "count_even=0\n",
        "count_odd =0\n",
        "for i in range(1,11):\n",
        "  if i%2==0:\n",
        "    count_even =count_even+1\n",
        "  else:\n",
        "    count_odd =count_odd+1\n",
        "print(\"Even: \",count_even)\n",
        "print(\"Odd: \",count_odd)\n"
      ],
      "metadata": {
        "colab": {
          "base_uri": "https://localhost:8080/"
        },
        "id": "ghMtHeqXImUr",
        "outputId": "ba0a69f0-9c35-4147-876a-8c11ed38156a"
      },
      "execution_count": null,
      "outputs": [
        {
          "output_type": "stream",
          "name": "stdout",
          "text": [
            "Even:  5\n",
            "Odd:  5\n"
          ]
        }
      ]
    },
    {
      "cell_type": "code",
      "source": [
        "count=0\n",
        "for i in range(1,100):\n",
        "  if i%3==0 and i%5==0:\n",
        "    count=count+1\n",
        "print(count)"
      ],
      "metadata": {
        "colab": {
          "base_uri": "https://localhost:8080/"
        },
        "id": "zkNz7CjNS9K1",
        "outputId": "b6298363-6bcb-4e2d-956e-bf10d7af118d"
      },
      "execution_count": null,
      "outputs": [
        {
          "output_type": "stream",
          "name": "stdout",
          "text": [
            "6\n"
          ]
        }
      ]
    },
    {
      "cell_type": "code",
      "source": [
        "#sum the first 5 natural numbers\n",
        "sum=0\n",
        "for i in range (1,6):\n",
        "  sum=sum+i\n",
        "print(sum)\n"
      ],
      "metadata": {
        "colab": {
          "base_uri": "https://localhost:8080/"
        },
        "id": "wzdg-8Qmy-iI",
        "outputId": "65635b65-40af-456b-8aa2-fc3786aa3812"
      },
      "execution_count": null,
      "outputs": [
        {
          "output_type": "stream",
          "name": "stdout",
          "text": [
            "15\n"
          ]
        }
      ]
    },
    {
      "cell_type": "code",
      "source": [
        "#get input for 10 numbers and find sum &  avg\n",
        "num = 0\n",
        "sum = 0\n",
        "count =0\n",
        "for i in range(10):\n",
        "  num=int(input())\n",
        "  sum=sum+num\n",
        "  count=count+1\n",
        "  avg=sum/count\n",
        "\n",
        "print(\"Sum: \",sum)\n",
        "print(\"Count:\",count)\n",
        "print(\"Avg:\",avg)\n",
        "\n",
        "\n",
        "\n"
      ],
      "metadata": {
        "colab": {
          "base_uri": "https://localhost:8080/"
        },
        "outputId": "764d0f5b-bc11-460c-a308-9d79617dad5d",
        "id": "laVNSLhS-Tco"
      },
      "execution_count": null,
      "outputs": [
        {
          "output_type": "stream",
          "name": "stdout",
          "text": [
            "1\n",
            "1\n",
            "1\n",
            "1\n",
            "1\n",
            "1\n",
            "1\n",
            "1\n",
            "1\n",
            "1\n",
            "Sum:  10\n",
            "Count: 10\n",
            "Avg: 1.0\n"
          ]
        }
      ]
    },
    {
      "cell_type": "code",
      "source": [
        "#list\n",
        "a=[1,2,3,4,5]\n",
        "for i in a:\n",
        "  print(i)"
      ],
      "metadata": {
        "colab": {
          "base_uri": "https://localhost:8080/"
        },
        "id": "sbWgyy0O_AgA",
        "outputId": "a7bd2471-06ca-4f46-ef80-e822e59ce726"
      },
      "execution_count": 4,
      "outputs": [
        {
          "output_type": "stream",
          "name": "stdout",
          "text": [
            "1\n",
            "2\n",
            "3\n",
            "4\n",
            "5\n"
          ]
        }
      ]
    },
    {
      "cell_type": "code",
      "source": [
        "\n",
        "#append\n",
        "a=[]\n",
        "a.append(10)\n",
        "a\n",
        "a.append(20)\n",
        "print(a)"
      ],
      "metadata": {
        "colab": {
          "base_uri": "https://localhost:8080/"
        },
        "id": "niYWX-mYAEG-",
        "outputId": "24b78f05-fbe4-405d-d187-6106c69a56eb"
      },
      "execution_count": 7,
      "outputs": [
        {
          "output_type": "stream",
          "name": "stdout",
          "text": [
            "[10, 20]\n"
          ]
        }
      ]
    },
    {
      "cell_type": "code",
      "source": [
        "a=[]\n",
        "a.append(2)\n",
        "a.append(23)\n",
        "a.append(77)\n",
        "a.append(32)\n",
        "b=int(input())\n",
        "a.append(b)\n",
        "print(a )\n"
      ],
      "metadata": {
        "colab": {
          "base_uri": "https://localhost:8080/"
        },
        "id": "-bet6SF8KBMR",
        "outputId": "dd553cc1-cac4-4c30-eee0-aabddebda89b"
      },
      "execution_count": 2,
      "outputs": [
        {
          "output_type": "stream",
          "name": "stdout",
          "text": [
            "43\n",
            "[2, 23, 77, 32, 43]\n"
          ]
        }
      ]
    },
    {
      "cell_type": "code",
      "source": [
        "a=[]\n",
        "\n",
        "for i in range(10):\n",
        "  b=int(input())\n",
        "  a.append(b)\n",
        "\n",
        "print(a)\n"
      ],
      "metadata": {
        "colab": {
          "base_uri": "https://localhost:8080/"
        },
        "id": "xktXePTTMaAf",
        "outputId": "8be0b80b-baf4-42c8-c0c0-9e85c8f0ea48"
      },
      "execution_count": 7,
      "outputs": [
        {
          "output_type": "stream",
          "name": "stdout",
          "text": [
            "1\n",
            "22\n",
            "33\n",
            "12\n",
            "34\n",
            "4\n",
            "55\n",
            "22\n",
            "22\n",
            "8\n",
            "[1, 22, 33, 12, 34, 4, 55, 22, 22, 8]\n"
          ]
        }
      ]
    },
    {
      "cell_type": "code",
      "source": [
        "a=[]\n",
        "for i in range(10):\n",
        "  b=int(input(\"Enter num\"+str(i+1)))\n",
        "  a.append(b)\n",
        "print(a)"
      ],
      "metadata": {
        "colab": {
          "base_uri": "https://localhost:8080/"
        },
        "id": "Q6AShNjfPAmr",
        "outputId": "5c6a4461-e9c9-4ad9-9269-3e567aef36da"
      },
      "execution_count": 14,
      "outputs": [
        {
          "output_type": "stream",
          "name": "stdout",
          "text": [
            "Enter num155\n",
            "Enter num278\n",
            "Enter num377\n",
            "Enter num433\n",
            "Enter num577\n",
            "Enter num687\n",
            "Enter num735\n",
            "Enter num899\n",
            "Enter num966\n",
            "Enter num1077\n",
            "[55, 78, 77, 33, 77, 87, 35, 99, 66, 77]\n"
          ]
        }
      ]
    },
    {
      "cell_type": "code",
      "source": [
        "a=[]\n",
        "sum=0\n",
        "count=0\n",
        "for i in range(10):\n",
        "  b=int(input(\"Enter num \"+str(i+1)))\n",
        "  a.append(b)\n",
        "  sum=sum+i\n",
        "  count=count+1\n",
        "\n",
        "print(\"SUM:\",sum)\n",
        "print (\"COUNT:\",count)\n",
        "avg=sum/count\n",
        "print (\"Avg:\",avg)\n",
        "\n",
        "\n"
      ],
      "metadata": {
        "colab": {
          "base_uri": "https://localhost:8080/"
        },
        "id": "UY9DIO7bSLG-",
        "outputId": "85ed8f88-f6b3-4c5f-b3ef-4114f0ebba9c"
      },
      "execution_count": 22,
      "outputs": [
        {
          "output_type": "stream",
          "name": "stdout",
          "text": [
            "Enter num 14\n",
            "Enter num 24\n",
            "Enter num 33\n",
            "Enter num 44\n",
            "Enter num 53\n",
            "Enter num 63\n",
            "Enter num 74\n",
            "Enter num 83\n",
            "Enter num 93\n",
            "Enter num 104\n",
            "SUM: 45\n",
            "COUNT: 10\n",
            "Avg: 4.5\n"
          ]
        }
      ]
    },
    {
      "cell_type": "code",
      "source": [],
      "metadata": {
        "id": "HBc_z65NV1jJ"
      },
      "execution_count": null,
      "outputs": []
    },
    {
      "cell_type": "code",
      "source": [
        "year =int(input(\"Enter Year: \"))\n",
        "\n",
        "if year//4 and year//400:\n",
        "  #print(\"It is Leap Year\")\n",
        "  if year//100:\n",
        "    print (\"Not a Leap Year\")\n",
        "else :\n",
        "  print(\"Not a Leap Yea\")\n"
      ],
      "metadata": {
        "colab": {
          "base_uri": "https://localhost:8080/"
        },
        "id": "gQ9OP5g28zTC",
        "outputId": "cd8e7751-8aa2-4c29-9848-5ed89fabe57e"
      },
      "execution_count": null,
      "outputs": [
        {
          "output_type": "stream",
          "name": "stdout",
          "text": [
            "Enter Year: 2000\n",
            "Not a Leap Year\n"
          ]
        }
      ]
    },
    {
      "cell_type": "code",
      "source": [],
      "metadata": {
        "id": "CsbJRM0f-IOE"
      },
      "execution_count": null,
      "outputs": []
    }
  ],
  "metadata": {
    "colab": {
      "provenance": [],
      "gpuType": "T4",
      "authorship_tag": "ABX9TyN5lWpgFIqzuDJ5iELjTGV7",
      "include_colab_link": true
    },
    "kernelspec": {
      "display_name": "Python 3",
      "name": "python3"
    },
    "language_info": {
      "name": "python"
    },
    "accelerator": "GPU"
  },
  "nbformat": 4,
  "nbformat_minor": 0
}